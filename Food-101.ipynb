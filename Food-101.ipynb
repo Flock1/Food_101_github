{
 "cells": [
  {
   "cell_type": "code",
   "execution_count": 39,
   "metadata": {},
   "outputs": [],
   "source": [
    "from keras.applications.resnet50 import ResNet50, preprocess_input\n",
    "from keras.layers import Dense, Activation, Flatten, Dropout, Conv2D, GlobalAveragePooling2D, AveragePooling2D\n",
    "from keras.models import Sequential, Model\n",
    "from keras.models import load_model, Model\n",
    "from keras.preprocessing.image import ImageDataGenerator\n",
    "from keras.callbacks import LearningRateScheduler\n",
    "from keras import optimizers\n",
    "from keras.regularizers import l2\n",
    "from sklearn.model_selection import train_test_split\n",
    "from sklearn.utils import shuffle\n",
    "import matplotlib.pyplot as plt\n",
    "import numpy as np\n",
    "import os\n",
    "import pandas as pd\n",
    "import collections\n",
    "%matplotlib inline"
   ]
  },
  {
   "cell_type": "markdown",
   "metadata": {},
   "source": [
    "## Loading Pre-trained network\n",
    "\n",
    "I will be using ResNet50 as starting point to get a decent accuracy"
   ]
  },
  {
   "cell_type": "code",
   "execution_count": 2,
   "metadata": {},
   "outputs": [
    {
     "name": "stdout",
     "output_type": "stream",
     "text": [
      "WARNING:tensorflow:From /home/sarvagya/anaconda3/envs/tf_2/lib/python3.6/site-packages/tensorflow/python/framework/op_def_library.py:263: colocate_with (from tensorflow.python.framework.ops) is deprecated and will be removed in a future version.\n",
      "Instructions for updating:\n",
      "Colocations handled automatically by placer.\n"
     ]
    },
    {
     "name": "stderr",
     "output_type": "stream",
     "text": [
      "/home/sarvagya/anaconda3/envs/tf_2/lib/python3.6/site-packages/keras_applications/resnet50.py:265: UserWarning: The output shape of `ResNet50(include_top=False)` has been changed since Keras 2.2.0.\n",
      "  warnings.warn('The output shape of `ResNet50(include_top=False)` '\n"
     ]
    }
   ],
   "source": [
    "HEIGHT = 300\n",
    "WIDTH = 300\n",
    "\n",
    "base_model = ResNet50(weights='imagenet', \n",
    "                      include_top=False, \n",
    "                      input_shape=(HEIGHT, WIDTH, 3))"
   ]
  },
  {
   "cell_type": "code",
   "execution_count": 3,
   "metadata": {},
   "outputs": [],
   "source": [
    "root = '/media/sarvagya/Datasets/food-101/food-101/'\n",
    "root_train = '/media/sarvagya/Datasets/food-101/food-101/train/'\n",
    "root_test = '/media/sarvagya/Datasets/food-101/food-101/test/'\n",
    "root_meta = '/media/sarvagya/Datasets/food-101/food-101/meta/'"
   ]
  },
  {
   "cell_type": "code",
   "execution_count": 4,
   "metadata": {},
   "outputs": [],
   "source": [
    "# Sort the list in alphabetical order\n",
    "\n",
    "dirs = sorted(os.listdir(root_train))"
   ]
  },
  {
   "cell_type": "code",
   "execution_count": 5,
   "metadata": {
    "scrolled": true
   },
   "outputs": [
    {
     "data": {
      "text/plain": [
       "['apple_pie',\n",
       " 'baby_back_ribs',\n",
       " 'baklava',\n",
       " 'beef_carpaccio',\n",
       " 'beef_tartare',\n",
       " 'beet_salad',\n",
       " 'beignets',\n",
       " 'bibimbap',\n",
       " 'bread_pudding',\n",
       " 'breakfast_burrito',\n",
       " 'bruschetta',\n",
       " 'caesar_salad',\n",
       " 'cannoli',\n",
       " 'caprese_salad',\n",
       " 'carrot_cake',\n",
       " 'ceviche',\n",
       " 'cheese_plate',\n",
       " 'cheesecake',\n",
       " 'chicken_curry',\n",
       " 'chicken_quesadilla',\n",
       " 'chicken_wings',\n",
       " 'chocolate_cake',\n",
       " 'chocolate_mousse',\n",
       " 'churros',\n",
       " 'clam_chowder',\n",
       " 'club_sandwich',\n",
       " 'crab_cakes',\n",
       " 'creme_brulee',\n",
       " 'croque_madame',\n",
       " 'cup_cakes',\n",
       " 'deviled_eggs',\n",
       " 'donuts',\n",
       " 'dumplings',\n",
       " 'edamame',\n",
       " 'eggs_benedict',\n",
       " 'escargots',\n",
       " 'falafel',\n",
       " 'filet_mignon',\n",
       " 'fish_and_chips',\n",
       " 'foie_gras',\n",
       " 'french_fries',\n",
       " 'french_onion_soup',\n",
       " 'french_toast',\n",
       " 'fried_calamari',\n",
       " 'fried_rice',\n",
       " 'frozen_yogurt',\n",
       " 'garlic_bread',\n",
       " 'gnocchi',\n",
       " 'greek_salad',\n",
       " 'grilled_cheese_sandwich',\n",
       " 'grilled_salmon',\n",
       " 'guacamole',\n",
       " 'gyoza',\n",
       " 'hamburger',\n",
       " 'hot_and_sour_soup',\n",
       " 'hot_dog',\n",
       " 'huevos_rancheros',\n",
       " 'hummus',\n",
       " 'ice_cream',\n",
       " 'lasagna',\n",
       " 'lobster_bisque',\n",
       " 'lobster_roll_sandwich',\n",
       " 'macaroni_and_cheese',\n",
       " 'macarons',\n",
       " 'miso_soup',\n",
       " 'mussels',\n",
       " 'nachos',\n",
       " 'omelette',\n",
       " 'onion_rings',\n",
       " 'oysters',\n",
       " 'pad_thai',\n",
       " 'paella',\n",
       " 'pancakes',\n",
       " 'panna_cotta',\n",
       " 'peking_duck',\n",
       " 'pho',\n",
       " 'pizza',\n",
       " 'pork_chop',\n",
       " 'poutine',\n",
       " 'prime_rib',\n",
       " 'pulled_pork_sandwich',\n",
       " 'ramen',\n",
       " 'ravioli',\n",
       " 'red_velvet_cake',\n",
       " 'risotto',\n",
       " 'samosa',\n",
       " 'sashimi',\n",
       " 'scallops',\n",
       " 'seaweed_salad',\n",
       " 'shrimp_and_grits',\n",
       " 'spaghetti_bolognese',\n",
       " 'spaghetti_carbonara',\n",
       " 'spring_rolls',\n",
       " 'steak',\n",
       " 'strawberry_shortcake',\n",
       " 'sushi',\n",
       " 'tacos',\n",
       " 'takoyaki',\n",
       " 'tiramisu',\n",
       " 'tuna_tartare',\n",
       " 'waffles']"
      ]
     },
     "execution_count": 5,
     "metadata": {},
     "output_type": "execute_result"
    }
   ],
   "source": [
    "dirs"
   ]
  },
  {
   "cell_type": "markdown",
   "metadata": {},
   "source": [
    "## Creating training dataset"
   ]
  },
  {
   "cell_type": "code",
   "execution_count": 6,
   "metadata": {},
   "outputs": [],
   "source": [
    "category = []\n",
    "train_file = open(root_meta+'train.txt')\n",
    "train_data = train_file.read()\n",
    "train_data = train_data.split('\\n')\n",
    "train_data.pop()\n",
    "for i in range(len(train_data)):\n",
    "    \n",
    "    food_name = train_data[i].split('/')[0]\n",
    "    image_name = train_data[i].split('/')[1]\n",
    "    data = dirs.index(food_name)\n",
    "    category.append(data)\n",
    "    train_data[i] = food_name+'/'+image_name+'.jpg'"
   ]
  },
  {
   "cell_type": "code",
   "execution_count": 7,
   "metadata": {},
   "outputs": [
    {
     "name": "stdout",
     "output_type": "stream",
     "text": [
      "75750\n",
      "75750\n"
     ]
    }
   ],
   "source": [
    "print(len(category))\n",
    "print(len(train_data))"
   ]
  },
  {
   "cell_type": "markdown",
   "metadata": {},
   "source": [
    "## Creating testing dataset"
   ]
  },
  {
   "cell_type": "code",
   "execution_count": 8,
   "metadata": {},
   "outputs": [],
   "source": [
    "category_test = []\n",
    "test_file = open(root_meta+'test.txt')\n",
    "test_data = test_file.read()\n",
    "test_data = test_data.split('\\n')\n",
    "test_data.pop()\n",
    "for i in range(len(test_data)):\n",
    "    \n",
    "    food_name = test_data[i].split('/')[0]\n",
    "    image_name = test_data[i].split('/')[1]\n",
    "    data = dirs.index(food_name)\n",
    "    category_test.append(data)\n",
    "    test_data[i] = food_name+'/'+image_name+'.jpg'"
   ]
  },
  {
   "cell_type": "code",
   "execution_count": 9,
   "metadata": {},
   "outputs": [
    {
     "name": "stdout",
     "output_type": "stream",
     "text": [
      "25250\n",
      "25250\n"
     ]
    }
   ],
   "source": [
    "print(len(category_test))\n",
    "print(len(test_data))"
   ]
  },
  {
   "cell_type": "code",
   "execution_count": 10,
   "metadata": {},
   "outputs": [],
   "source": [
    "df = pd.DataFrame({\n",
    "    'filename': train_data,\n",
    "    'category': category\n",
    "})"
   ]
  },
  {
   "cell_type": "code",
   "execution_count": 11,
   "metadata": {},
   "outputs": [],
   "source": [
    "df_test = pd.DataFrame({\n",
    "    'filename': test_data,\n",
    "    'category': category_test\n",
    "})"
   ]
  },
  {
   "cell_type": "code",
   "execution_count": 12,
   "metadata": {
    "scrolled": true
   },
   "outputs": [
    {
     "data": {
      "text/html": [
       "<div>\n",
       "<style scoped>\n",
       "    .dataframe tbody tr th:only-of-type {\n",
       "        vertical-align: middle;\n",
       "    }\n",
       "\n",
       "    .dataframe tbody tr th {\n",
       "        vertical-align: top;\n",
       "    }\n",
       "\n",
       "    .dataframe thead th {\n",
       "        text-align: right;\n",
       "    }\n",
       "</style>\n",
       "<table border=\"1\" class=\"dataframe\">\n",
       "  <thead>\n",
       "    <tr style=\"text-align: right;\">\n",
       "      <th></th>\n",
       "      <th>filename</th>\n",
       "      <th>category</th>\n",
       "    </tr>\n",
       "  </thead>\n",
       "  <tbody>\n",
       "    <tr>\n",
       "      <th>0</th>\n",
       "      <td>apple_pie/1005649.jpg</td>\n",
       "      <td>0</td>\n",
       "    </tr>\n",
       "    <tr>\n",
       "      <th>1</th>\n",
       "      <td>apple_pie/1014775.jpg</td>\n",
       "      <td>0</td>\n",
       "    </tr>\n",
       "    <tr>\n",
       "      <th>2</th>\n",
       "      <td>apple_pie/1026328.jpg</td>\n",
       "      <td>0</td>\n",
       "    </tr>\n",
       "    <tr>\n",
       "      <th>3</th>\n",
       "      <td>apple_pie/1028787.jpg</td>\n",
       "      <td>0</td>\n",
       "    </tr>\n",
       "    <tr>\n",
       "      <th>4</th>\n",
       "      <td>apple_pie/1043283.jpg</td>\n",
       "      <td>0</td>\n",
       "    </tr>\n",
       "    <tr>\n",
       "      <th>5</th>\n",
       "      <td>apple_pie/1050519.jpg</td>\n",
       "      <td>0</td>\n",
       "    </tr>\n",
       "    <tr>\n",
       "      <th>6</th>\n",
       "      <td>apple_pie/1057749.jpg</td>\n",
       "      <td>0</td>\n",
       "    </tr>\n",
       "    <tr>\n",
       "      <th>7</th>\n",
       "      <td>apple_pie/1057810.jpg</td>\n",
       "      <td>0</td>\n",
       "    </tr>\n",
       "    <tr>\n",
       "      <th>8</th>\n",
       "      <td>apple_pie/1072416.jpg</td>\n",
       "      <td>0</td>\n",
       "    </tr>\n",
       "    <tr>\n",
       "      <th>9</th>\n",
       "      <td>apple_pie/1074856.jpg</td>\n",
       "      <td>0</td>\n",
       "    </tr>\n",
       "    <tr>\n",
       "      <th>10</th>\n",
       "      <td>apple_pie/1074942.jpg</td>\n",
       "      <td>0</td>\n",
       "    </tr>\n",
       "    <tr>\n",
       "      <th>11</th>\n",
       "      <td>apple_pie/1076891.jpg</td>\n",
       "      <td>0</td>\n",
       "    </tr>\n",
       "    <tr>\n",
       "      <th>12</th>\n",
       "      <td>apple_pie/1077610.jpg</td>\n",
       "      <td>0</td>\n",
       "    </tr>\n",
       "    <tr>\n",
       "      <th>13</th>\n",
       "      <td>apple_pie/1077964.jpg</td>\n",
       "      <td>0</td>\n",
       "    </tr>\n",
       "    <tr>\n",
       "      <th>14</th>\n",
       "      <td>apple_pie/1088809.jpg</td>\n",
       "      <td>0</td>\n",
       "    </tr>\n",
       "    <tr>\n",
       "      <th>15</th>\n",
       "      <td>apple_pie/1097378.jpg</td>\n",
       "      <td>0</td>\n",
       "    </tr>\n",
       "    <tr>\n",
       "      <th>16</th>\n",
       "      <td>apple_pie/1103795.jpg</td>\n",
       "      <td>0</td>\n",
       "    </tr>\n",
       "    <tr>\n",
       "      <th>17</th>\n",
       "      <td>apple_pie/1109597.jpg</td>\n",
       "      <td>0</td>\n",
       "    </tr>\n",
       "    <tr>\n",
       "      <th>18</th>\n",
       "      <td>apple_pie/1111062.jpg</td>\n",
       "      <td>0</td>\n",
       "    </tr>\n",
       "    <tr>\n",
       "      <th>19</th>\n",
       "      <td>apple_pie/1112300.jpg</td>\n",
       "      <td>0</td>\n",
       "    </tr>\n",
       "    <tr>\n",
       "      <th>20</th>\n",
       "      <td>apple_pie/1112838.jpg</td>\n",
       "      <td>0</td>\n",
       "    </tr>\n",
       "    <tr>\n",
       "      <th>21</th>\n",
       "      <td>apple_pie/1121884.jpg</td>\n",
       "      <td>0</td>\n",
       "    </tr>\n",
       "    <tr>\n",
       "      <th>22</th>\n",
       "      <td>apple_pie/112378.jpg</td>\n",
       "      <td>0</td>\n",
       "    </tr>\n",
       "    <tr>\n",
       "      <th>23</th>\n",
       "      <td>apple_pie/1133267.jpg</td>\n",
       "      <td>0</td>\n",
       "    </tr>\n",
       "    <tr>\n",
       "      <th>24</th>\n",
       "      <td>apple_pie/1142597.jpg</td>\n",
       "      <td>0</td>\n",
       "    </tr>\n",
       "    <tr>\n",
       "      <th>25</th>\n",
       "      <td>apple_pie/1147371.jpg</td>\n",
       "      <td>0</td>\n",
       "    </tr>\n",
       "    <tr>\n",
       "      <th>26</th>\n",
       "      <td>apple_pie/1154371.jpg</td>\n",
       "      <td>0</td>\n",
       "    </tr>\n",
       "    <tr>\n",
       "      <th>27</th>\n",
       "      <td>apple_pie/1158360.jpg</td>\n",
       "      <td>0</td>\n",
       "    </tr>\n",
       "    <tr>\n",
       "      <th>28</th>\n",
       "      <td>apple_pie/1159801.jpg</td>\n",
       "      <td>0</td>\n",
       "    </tr>\n",
       "    <tr>\n",
       "      <th>29</th>\n",
       "      <td>apple_pie/1165004.jpg</td>\n",
       "      <td>0</td>\n",
       "    </tr>\n",
       "    <tr>\n",
       "      <th>...</th>\n",
       "      <td>...</td>\n",
       "      <td>...</td>\n",
       "    </tr>\n",
       "    <tr>\n",
       "      <th>75720</th>\n",
       "      <td>waffles/87930.jpg</td>\n",
       "      <td>100</td>\n",
       "    </tr>\n",
       "    <tr>\n",
       "      <th>75721</th>\n",
       "      <td>waffles/885452.jpg</td>\n",
       "      <td>100</td>\n",
       "    </tr>\n",
       "    <tr>\n",
       "      <th>75722</th>\n",
       "      <td>waffles/88648.jpg</td>\n",
       "      <td>100</td>\n",
       "    </tr>\n",
       "    <tr>\n",
       "      <th>75723</th>\n",
       "      <td>waffles/888311.jpg</td>\n",
       "      <td>100</td>\n",
       "    </tr>\n",
       "    <tr>\n",
       "      <th>75724</th>\n",
       "      <td>waffles/888907.jpg</td>\n",
       "      <td>100</td>\n",
       "    </tr>\n",
       "    <tr>\n",
       "      <th>75725</th>\n",
       "      <td>waffles/902643.jpg</td>\n",
       "      <td>100</td>\n",
       "    </tr>\n",
       "    <tr>\n",
       "      <th>75726</th>\n",
       "      <td>waffles/903293.jpg</td>\n",
       "      <td>100</td>\n",
       "    </tr>\n",
       "    <tr>\n",
       "      <th>75727</th>\n",
       "      <td>waffles/903753.jpg</td>\n",
       "      <td>100</td>\n",
       "    </tr>\n",
       "    <tr>\n",
       "      <th>75728</th>\n",
       "      <td>waffles/910563.jpg</td>\n",
       "      <td>100</td>\n",
       "    </tr>\n",
       "    <tr>\n",
       "      <th>75729</th>\n",
       "      <td>waffles/923472.jpg</td>\n",
       "      <td>100</td>\n",
       "    </tr>\n",
       "    <tr>\n",
       "      <th>75730</th>\n",
       "      <td>waffles/928557.jpg</td>\n",
       "      <td>100</td>\n",
       "    </tr>\n",
       "    <tr>\n",
       "      <th>75731</th>\n",
       "      <td>waffles/932850.jpg</td>\n",
       "      <td>100</td>\n",
       "    </tr>\n",
       "    <tr>\n",
       "      <th>75732</th>\n",
       "      <td>waffles/940186.jpg</td>\n",
       "      <td>100</td>\n",
       "    </tr>\n",
       "    <tr>\n",
       "      <th>75733</th>\n",
       "      <td>waffles/945920.jpg</td>\n",
       "      <td>100</td>\n",
       "    </tr>\n",
       "    <tr>\n",
       "      <th>75734</th>\n",
       "      <td>waffles/948659.jpg</td>\n",
       "      <td>100</td>\n",
       "    </tr>\n",
       "    <tr>\n",
       "      <th>75735</th>\n",
       "      <td>waffles/948929.jpg</td>\n",
       "      <td>100</td>\n",
       "    </tr>\n",
       "    <tr>\n",
       "      <th>75736</th>\n",
       "      <td>waffles/950926.jpg</td>\n",
       "      <td>100</td>\n",
       "    </tr>\n",
       "    <tr>\n",
       "      <th>75737</th>\n",
       "      <td>waffles/951093.jpg</td>\n",
       "      <td>100</td>\n",
       "    </tr>\n",
       "    <tr>\n",
       "      <th>75738</th>\n",
       "      <td>waffles/957965.jpg</td>\n",
       "      <td>100</td>\n",
       "    </tr>\n",
       "    <tr>\n",
       "      <th>75739</th>\n",
       "      <td>waffles/959230.jpg</td>\n",
       "      <td>100</td>\n",
       "    </tr>\n",
       "    <tr>\n",
       "      <th>75740</th>\n",
       "      <td>waffles/961486.jpg</td>\n",
       "      <td>100</td>\n",
       "    </tr>\n",
       "    <tr>\n",
       "      <th>75741</th>\n",
       "      <td>waffles/97524.jpg</td>\n",
       "      <td>100</td>\n",
       "    </tr>\n",
       "    <tr>\n",
       "      <th>75742</th>\n",
       "      <td>waffles/97567.jpg</td>\n",
       "      <td>100</td>\n",
       "    </tr>\n",
       "    <tr>\n",
       "      <th>75743</th>\n",
       "      <td>waffles/978448.jpg</td>\n",
       "      <td>100</td>\n",
       "    </tr>\n",
       "    <tr>\n",
       "      <th>75744</th>\n",
       "      <td>waffles/98131.jpg</td>\n",
       "      <td>100</td>\n",
       "    </tr>\n",
       "    <tr>\n",
       "      <th>75745</th>\n",
       "      <td>waffles/981485.jpg</td>\n",
       "      <td>100</td>\n",
       "    </tr>\n",
       "    <tr>\n",
       "      <th>75746</th>\n",
       "      <td>waffles/98238.jpg</td>\n",
       "      <td>100</td>\n",
       "    </tr>\n",
       "    <tr>\n",
       "      <th>75747</th>\n",
       "      <td>waffles/982668.jpg</td>\n",
       "      <td>100</td>\n",
       "    </tr>\n",
       "    <tr>\n",
       "      <th>75748</th>\n",
       "      <td>waffles/995085.jpg</td>\n",
       "      <td>100</td>\n",
       "    </tr>\n",
       "    <tr>\n",
       "      <th>75749</th>\n",
       "      <td>waffles/999047.jpg</td>\n",
       "      <td>100</td>\n",
       "    </tr>\n",
       "  </tbody>\n",
       "</table>\n",
       "<p>75750 rows × 2 columns</p>\n",
       "</div>"
      ],
      "text/plain": [
       "                    filename  category\n",
       "0      apple_pie/1005649.jpg         0\n",
       "1      apple_pie/1014775.jpg         0\n",
       "2      apple_pie/1026328.jpg         0\n",
       "3      apple_pie/1028787.jpg         0\n",
       "4      apple_pie/1043283.jpg         0\n",
       "5      apple_pie/1050519.jpg         0\n",
       "6      apple_pie/1057749.jpg         0\n",
       "7      apple_pie/1057810.jpg         0\n",
       "8      apple_pie/1072416.jpg         0\n",
       "9      apple_pie/1074856.jpg         0\n",
       "10     apple_pie/1074942.jpg         0\n",
       "11     apple_pie/1076891.jpg         0\n",
       "12     apple_pie/1077610.jpg         0\n",
       "13     apple_pie/1077964.jpg         0\n",
       "14     apple_pie/1088809.jpg         0\n",
       "15     apple_pie/1097378.jpg         0\n",
       "16     apple_pie/1103795.jpg         0\n",
       "17     apple_pie/1109597.jpg         0\n",
       "18     apple_pie/1111062.jpg         0\n",
       "19     apple_pie/1112300.jpg         0\n",
       "20     apple_pie/1112838.jpg         0\n",
       "21     apple_pie/1121884.jpg         0\n",
       "22      apple_pie/112378.jpg         0\n",
       "23     apple_pie/1133267.jpg         0\n",
       "24     apple_pie/1142597.jpg         0\n",
       "25     apple_pie/1147371.jpg         0\n",
       "26     apple_pie/1154371.jpg         0\n",
       "27     apple_pie/1158360.jpg         0\n",
       "28     apple_pie/1159801.jpg         0\n",
       "29     apple_pie/1165004.jpg         0\n",
       "...                      ...       ...\n",
       "75720      waffles/87930.jpg       100\n",
       "75721     waffles/885452.jpg       100\n",
       "75722      waffles/88648.jpg       100\n",
       "75723     waffles/888311.jpg       100\n",
       "75724     waffles/888907.jpg       100\n",
       "75725     waffles/902643.jpg       100\n",
       "75726     waffles/903293.jpg       100\n",
       "75727     waffles/903753.jpg       100\n",
       "75728     waffles/910563.jpg       100\n",
       "75729     waffles/923472.jpg       100\n",
       "75730     waffles/928557.jpg       100\n",
       "75731     waffles/932850.jpg       100\n",
       "75732     waffles/940186.jpg       100\n",
       "75733     waffles/945920.jpg       100\n",
       "75734     waffles/948659.jpg       100\n",
       "75735     waffles/948929.jpg       100\n",
       "75736     waffles/950926.jpg       100\n",
       "75737     waffles/951093.jpg       100\n",
       "75738     waffles/957965.jpg       100\n",
       "75739     waffles/959230.jpg       100\n",
       "75740     waffles/961486.jpg       100\n",
       "75741      waffles/97524.jpg       100\n",
       "75742      waffles/97567.jpg       100\n",
       "75743     waffles/978448.jpg       100\n",
       "75744      waffles/98131.jpg       100\n",
       "75745     waffles/981485.jpg       100\n",
       "75746      waffles/98238.jpg       100\n",
       "75747     waffles/982668.jpg       100\n",
       "75748     waffles/995085.jpg       100\n",
       "75749     waffles/999047.jpg       100\n",
       "\n",
       "[75750 rows x 2 columns]"
      ]
     },
     "execution_count": 12,
     "metadata": {},
     "output_type": "execute_result"
    }
   ],
   "source": [
    "df"
   ]
  },
  {
   "cell_type": "code",
   "execution_count": 13,
   "metadata": {},
   "outputs": [
    {
     "data": {
      "text/plain": [
       "<matplotlib.axes._subplots.AxesSubplot at 0x7fcda72a7240>"
      ]
     },
     "execution_count": 13,
     "metadata": {},
     "output_type": "execute_result"
    },
    {
     "data": {
      "image/png": "[encoded data removed]",
      "text/plain": [
       "<Figure size 432x288 with 1 Axes>"
      ]
     },
     "metadata": {
      "needs_background": "light"
     },
     "output_type": "display_data"
    }
   ],
   "source": [
    "df['category'].value_counts().plot.bar()"
   ]
  },
  {
   "cell_type": "markdown",
   "metadata": {},
   "source": [
    "Here, we see that the dataset is evenly distributed with equal number of images from each class"
   ]
  },
  {
   "cell_type": "code",
   "execution_count": 14,
   "metadata": {},
   "outputs": [],
   "source": [
    "train_df, validate_df = train_test_split(df, test_size=0.20, random_state=42)"
   ]
  },
  {
   "cell_type": "code",
   "execution_count": 15,
   "metadata": {},
   "outputs": [
    {
     "data": {
      "text/plain": [
       "numpy.int64"
      ]
     },
     "execution_count": 15,
     "metadata": {},
     "output_type": "execute_result"
    }
   ],
   "source": [
    "train_df = train_df.reset_index(drop=True)\n",
    "(train_df['category'].astype('str'))\n",
    "type(train_df['category'][0])"
   ]
  },
  {
   "cell_type": "code",
   "execution_count": 16,
   "metadata": {},
   "outputs": [],
   "source": [
    "train_df.category = train_df.category.astype(str)"
   ]
  },
  {
   "cell_type": "code",
   "execution_count": 17,
   "metadata": {},
   "outputs": [],
   "source": [
    "df_test.category = df_test.category.astype(str)"
   ]
  },
  {
   "cell_type": "code",
   "execution_count": 18,
   "metadata": {},
   "outputs": [],
   "source": [
    "validate_df = validate_df.reset_index(drop=True)\n",
    "validate_df.category = validate_df.category.astype(str)"
   ]
  },
  {
   "cell_type": "code",
   "execution_count": 19,
   "metadata": {},
   "outputs": [
    {
     "data": {
      "text/plain": [
       "<matplotlib.axes._subplots.AxesSubplot at 0x7fcda60d0e48>"
      ]
     },
     "execution_count": 19,
     "metadata": {},
     "output_type": "execute_result"
    },
    {
     "data": {
      "image/png": "[encoded data removed]",
      "text/plain": [
       "<Figure size 432x288 with 1 Axes>"
      ]
     },
     "metadata": {
      "needs_background": "light"
     },
     "output_type": "display_data"
    }
   ],
   "source": [
    "train_df['category'].value_counts().plot.bar()"
   ]
  },
  {
   "cell_type": "code",
   "execution_count": 20,
   "metadata": {},
   "outputs": [],
   "source": [
    "total_train = train_df.shape[0]\n",
    "total_validate = validate_df.shape[0]\n",
    "batch_size=15\n",
    "num_classes = 101"
   ]
  },
  {
   "cell_type": "markdown",
   "metadata": {},
   "source": [
    "## Creating training set data generators\n",
    "the generators help with preventing overfittig by creating more sets of images during training. The images include rotated images, rescaled, zoomed, shear transfomred, flipped and shifted"
   ]
  },
  {
   "cell_type": "code",
   "execution_count": 50,
   "metadata": {},
   "outputs": [],
   "source": [
    "train_datagen = ImageDataGenerator(\n",
    "    rotation_range=15,\n",
    "    rescale=1./255,\n",
    "    shear_range=0.1,\n",
    "    zoom_range=0.2,\n",
    "    horizontal_flip=True,\n",
    "    width_shift_range=0.1,\n",
    "    height_shift_range=0.1\n",
    ")"
   ]
  },
  {
   "cell_type": "markdown",
   "metadata": {},
   "source": [
    "The data is generated with the edited images along with resizing according to the CNN requirements (300X300X3)"
   ]
  },
  {
   "cell_type": "code",
   "execution_count": 51,
   "metadata": {},
   "outputs": [
    {
     "name": "stdout",
     "output_type": "stream",
     "text": [
      "Found 60600 images belonging to 101 classes.\n"
     ]
    }
   ],
   "source": [
    "train_generator = train_datagen.flow_from_dataframe(\n",
    "    train_df, \n",
    "    \"/media/sarvagya/Datasets/food-101/food-101/train/\", \n",
    "    x_col='filename',\n",
    "    y_col='category',\n",
    "    target_size=(HEIGHT,WIDTH),\n",
    "    batch_size=batch_size\n",
    ")"
   ]
  },
  {
   "cell_type": "code",
   "execution_count": 52,
   "metadata": {},
   "outputs": [
    {
     "name": "stdout",
     "output_type": "stream",
     "text": [
      "Found 15150 images belonging to 101 classes.\n"
     ]
    }
   ],
   "source": [
    "validation_datagen = ImageDataGenerator(rescale=1./255)\n",
    "validation_generator = validation_datagen.flow_from_dataframe(\n",
    "    validate_df, \n",
    "    \"/media/sarvagya/Datasets/food-101/food-101/test/\", \n",
    "    x_col='filename',\n",
    "    y_col='category',\n",
    "    target_size=(HEIGHT,WIDTH),\n",
    "    batch_size=batch_size\n",
    ")"
   ]
  },
  {
   "cell_type": "markdown",
   "metadata": {},
   "source": [
    "## Base Model"
   ]
  },
  {
   "cell_type": "code",
   "execution_count": 53,
   "metadata": {},
   "outputs": [
    {
     "name": "stdout",
     "output_type": "stream",
     "text": [
      "1 input_2\n",
      "2 conv1_pad\n",
      "3 conv1\n",
      "4 bn_conv1\n",
      "5 activation_50\n",
      "6 pool1_pad\n",
      "7 max_pooling2d_2\n",
      "8 res2a_branch2a\n",
      "9 bn2a_branch2a\n",
      "10 activation_51\n",
      "11 res2a_branch2b\n",
      "12 bn2a_branch2b\n",
      "13 activation_52\n",
      "14 res2a_branch2c\n",
      "15 res2a_branch1\n",
      "16 bn2a_branch2c\n",
      "17 bn2a_branch1\n",
      "18 add_17\n",
      "19 activation_53\n",
      "20 res2b_branch2a\n",
      "21 bn2b_branch2a\n",
      "22 activation_54\n",
      "23 res2b_branch2b\n",
      "24 bn2b_branch2b\n",
      "25 activation_55\n",
      "26 res2b_branch2c\n",
      "27 bn2b_branch2c\n",
      "28 add_18\n",
      "29 activation_56\n",
      "30 res2c_branch2a\n",
      "31 bn2c_branch2a\n",
      "32 activation_57\n",
      "33 res2c_branch2b\n",
      "34 bn2c_branch2b\n",
      "35 activation_58\n",
      "36 res2c_branch2c\n",
      "37 bn2c_branch2c\n",
      "38 add_19\n",
      "39 activation_59\n",
      "40 res3a_branch2a\n",
      "41 bn3a_branch2a\n",
      "42 activation_60\n",
      "43 res3a_branch2b\n",
      "44 bn3a_branch2b\n",
      "45 activation_61\n",
      "46 res3a_branch2c\n",
      "47 res3a_branch1\n",
      "48 bn3a_branch2c\n",
      "49 bn3a_branch1\n",
      "50 add_20\n",
      "51 activation_62\n",
      "52 res3b_branch2a\n",
      "53 bn3b_branch2a\n",
      "54 activation_63\n",
      "55 res3b_branch2b\n",
      "56 bn3b_branch2b\n",
      "57 activation_64\n",
      "58 res3b_branch2c\n",
      "59 bn3b_branch2c\n",
      "60 add_21\n",
      "61 activation_65\n",
      "62 res3c_branch2a\n",
      "63 bn3c_branch2a\n",
      "64 activation_66\n",
      "65 res3c_branch2b\n",
      "66 bn3c_branch2b\n",
      "67 activation_67\n",
      "68 res3c_branch2c\n",
      "69 bn3c_branch2c\n",
      "70 add_22\n",
      "71 activation_68\n",
      "72 res3d_branch2a\n",
      "73 bn3d_branch2a\n",
      "74 activation_69\n",
      "75 res3d_branch2b\n",
      "76 bn3d_branch2b\n",
      "77 activation_70\n",
      "78 res3d_branch2c\n",
      "79 bn3d_branch2c\n",
      "80 add_23\n",
      "81 activation_71\n",
      "82 res4a_branch2a\n",
      "83 bn4a_branch2a\n",
      "84 activation_72\n",
      "85 res4a_branch2b\n",
      "86 bn4a_branch2b\n",
      "87 activation_73\n",
      "88 res4a_branch2c\n",
      "89 res4a_branch1\n",
      "90 bn4a_branch2c\n",
      "91 bn4a_branch1\n",
      "92 add_24\n",
      "93 activation_74\n",
      "94 res4b_branch2a\n",
      "95 bn4b_branch2a\n",
      "96 activation_75\n",
      "97 res4b_branch2b\n",
      "98 bn4b_branch2b\n",
      "99 activation_76\n",
      "100 res4b_branch2c\n",
      "101 bn4b_branch2c\n",
      "102 add_25\n",
      "103 activation_77\n",
      "104 res4c_branch2a\n",
      "105 bn4c_branch2a\n",
      "106 activation_78\n",
      "107 res4c_branch2b\n",
      "108 bn4c_branch2b\n",
      "109 activation_79\n",
      "110 res4c_branch2c\n",
      "111 bn4c_branch2c\n",
      "112 add_26\n",
      "113 activation_80\n",
      "114 res4d_branch2a\n",
      "115 bn4d_branch2a\n",
      "116 activation_81\n",
      "117 res4d_branch2b\n",
      "118 bn4d_branch2b\n",
      "119 activation_82\n",
      "120 res4d_branch2c\n",
      "121 bn4d_branch2c\n",
      "122 add_27\n",
      "123 activation_83\n",
      "124 res4e_branch2a\n",
      "125 bn4e_branch2a\n",
      "126 activation_84\n",
      "127 res4e_branch2b\n",
      "128 bn4e_branch2b\n",
      "129 activation_85\n",
      "130 res4e_branch2c\n",
      "131 bn4e_branch2c\n",
      "132 add_28\n",
      "133 activation_86\n",
      "134 res4f_branch2a\n",
      "135 bn4f_branch2a\n",
      "136 activation_87\n",
      "137 res4f_branch2b\n",
      "138 bn4f_branch2b\n",
      "139 activation_88\n",
      "140 res4f_branch2c\n",
      "141 bn4f_branch2c\n",
      "142 add_29\n",
      "143 activation_89\n",
      "144 res5a_branch2a\n",
      "145 bn5a_branch2a\n",
      "146 activation_90\n",
      "147 res5a_branch2b\n",
      "148 bn5a_branch2b\n",
      "149 activation_91\n",
      "150 res5a_branch2c\n",
      "151 res5a_branch1\n",
      "152 bn5a_branch2c\n",
      "153 bn5a_branch1\n",
      "154 add_30\n",
      "155 activation_92\n",
      "156 res5b_branch2a\n",
      "157 bn5b_branch2a\n",
      "158 activation_93\n",
      "159 res5b_branch2b\n",
      "160 bn5b_branch2b\n",
      "161 activation_94\n",
      "162 res5b_branch2c\n",
      "163 bn5b_branch2c\n",
      "164 add_31\n",
      "165 activation_95\n",
      "166 res5c_branch2a\n",
      "167 bn5c_branch2a\n",
      "168 activation_96\n",
      "169 res5c_branch2b\n",
      "170 bn5c_branch2b\n",
      "171 activation_97\n",
      "172 res5c_branch2c\n",
      "173 bn5c_branch2c\n",
      "174 add_32\n",
      "175 activation_98\n",
      "176 avg_pool\n",
      "177 fc1000\n"
     ]
    }
   ],
   "source": [
    "i=0\n",
    "for layer in base_model.layers:\n",
    "    layer.trainable = False\n",
    "    i = i+1\n",
    "    print(i,layer.name)"
   ]
  },
  {
   "cell_type": "markdown",
   "metadata": {},
   "source": [
    "# Creating final layer for training\n",
    "I tried two methods for training: a) Fully connected layer and b) Convolution layer.\n",
    "\n",
    "The results with fully connectes were extremely inconsistant. The training accuracy did reach about 70% but validation accuracy didn't even touch 1%. I also tried various optimizers. "
   ]
  },
  {
   "cell_type": "code",
   "execution_count": 61,
   "metadata": {},
   "outputs": [
    {
     "name": "stderr",
     "output_type": "stream",
     "text": [
      "/home/sarvagya/.local/lib/python3.6/site-packages/ipykernel_launcher.py:2: UserWarning: Update your `Conv2D` call to the Keras 2 API: `Conv2D(128, (1, 1), activation=\"relu\")`\n",
      "  \n",
      "/home/sarvagya/.local/lib/python3.6/site-packages/ipykernel_launcher.py:10: UserWarning: Update your `Dense` call to the Keras 2 API: `Dense(101, activation=\"softmax\", kernel_initializer=\"glorot_uniform\", kernel_regularizer=<keras.reg...)`\n",
      "  # Remove the CWD from sys.path while we load stuff.\n"
     ]
    }
   ],
   "source": [
    "x = base_model.output\n",
    "x = Conv2D(128, 1, 1, activation='relu')(x)\n",
    "x = GlobalAveragePooling2D()(x)\n",
    "x = Dropout(0.2)(x)\n",
    "# predictions = Dense(num_classes, activation='softmax')(x)\n",
    "# x = base_model.output\n",
    "# x = AveragePooling2D(pool_size=(8, 8))(x)\n",
    "# x = Dropout(.4)(x)\n",
    "# x = Flatten()(x)\n",
    "predictions = Dense(num_classes, init='glorot_uniform', W_regularizer=l2(.0005), activation='softmax')(x)"
   ]
  },
  {
   "cell_type": "code",
   "execution_count": 62,
   "metadata": {},
   "outputs": [],
   "source": [
    "model = Model(inputs=base_model.input, outputs=predictions)"
   ]
  },
  {
   "cell_type": "code",
   "execution_count": 63,
   "metadata": {},
   "outputs": [],
   "source": [
    "model.compile(loss=\"categorical_crossentropy\", optimizer=optimizers.SGD(lr=0.01, momentum=0.9),metrics=[\"accuracy\"])"
   ]
  },
  {
   "cell_type": "markdown",
   "metadata": {},
   "source": [
    "# Scheduling learning rate according to epochs\n",
    "\n",
    "Change the learning rate as we proceed. As the model gets trained, sometimes it's better to reduce the learning rate and it did help in improving the accuracy."
   ]
  },
  {
   "cell_type": "code",
   "execution_count": 64,
   "metadata": {},
   "outputs": [],
   "source": [
    "def schedule(epoch):\n",
    "    if epoch < 10:\n",
    "        return .00008\n",
    "    elif epoch < 20:\n",
    "        return .000016\n",
    "    else:\n",
    "        return .0000032\n",
    "    \n",
    "lr_scheduler = LearningRateScheduler(schedule)"
   ]
  },
  {
   "cell_type": "code",
   "execution_count": 65,
   "metadata": {},
   "outputs": [
    {
     "name": "stdout",
     "output_type": "stream",
     "text": [
      "Epoch 1/32\n",
      "4040/4040 [==============================] - 1311s 324ms/step - loss: 4.5869 - acc: 0.0412 - val_loss: 4.0409 - val_acc: 0.1591\n",
      "Epoch 2/32\n",
      "4040/4040 [==============================] - 1404s 348ms/step - loss: 3.7293 - acc: 0.1927 - val_loss: 2.8299 - val_acc: 0.3719\n",
      "Epoch 3/32\n",
      "4040/4040 [==============================] - 1301s 322ms/step - loss: 2.9449 - acc: 0.3283 - val_loss: 2.2311 - val_acc: 0.4830\n",
      "Epoch 4/32\n",
      "4040/4040 [==============================] - 1305s 323ms/step - loss: 2.4631 - acc: 0.4245 - val_loss: 1.8632 - val_acc: 0.5568\n",
      "Epoch 5/32\n",
      "4040/4040 [==============================] - 1305s 323ms/step - loss: 2.1625 - acc: 0.4863 - val_loss: 1.6423 - val_acc: 0.6082\n",
      "Epoch 6/32\n",
      "4040/4040 [==============================] - 1305s 323ms/step - loss: 1.9492 - acc: 0.5362 - val_loss: 1.5643 - val_acc: 0.6232\n",
      "Epoch 7/32\n",
      "4040/4040 [==============================] - 1305s 323ms/step - loss: 1.7911 - acc: 0.5710 - val_loss: 1.4299 - val_acc: 0.6556\n",
      "Epoch 8/32\n",
      "4040/4040 [==============================] - 1347s 333ms/step - loss: 1.6720 - acc: 0.5974 - val_loss: 1.3966 - val_acc: 0.6632\n",
      "Epoch 9/32\n",
      "4040/4040 [==============================] - 1307s 324ms/step - loss: 1.5623 - acc: 0.6225 - val_loss: 1.4031 - val_acc: 0.6634\n",
      "Epoch 10/32\n",
      "4040/4040 [==============================] - 1308s 324ms/step - loss: 1.4779 - acc: 0.6423 - val_loss: 1.3374 - val_acc: 0.6777\n",
      "Epoch 11/32\n",
      "4040/4040 [==============================] - 1323s 328ms/step - loss: 1.3885 - acc: 0.6634 - val_loss: 1.2412 - val_acc: 0.7024\n",
      "Epoch 12/32\n",
      "4040/4040 [==============================] - 1293s 320ms/step - loss: 1.3570 - acc: 0.6696 - val_loss: 1.2323 - val_acc: 0.7041\n",
      "Epoch 13/32\n",
      "4040/4040 [==============================] - 1301s 322ms/step - loss: 1.3470 - acc: 0.6708 - val_loss: 1.2249 - val_acc: 0.7061\n",
      "Epoch 14/32\n",
      "4040/4040 [==============================] - 1317s 326ms/step - loss: 1.3351 - acc: 0.6753 - val_loss: 1.2200 - val_acc: 0.7076\n",
      "Epoch 15/32\n",
      "4040/4040 [==============================] - 1322s 327ms/step - loss: 1.3105 - acc: 0.6798 - val_loss: 1.2148 - val_acc: 0.7090\n",
      "Epoch 16/32\n",
      "4040/4040 [==============================] - 1310s 324ms/step - loss: 1.3027 - acc: 0.6828 - val_loss: 1.1988 - val_acc: 0.7128\n",
      "Epoch 17/32\n",
      "4040/4040 [==============================] - 1352s 335ms/step - loss: 1.2767 - acc: 0.6883 - val_loss: 1.1903 - val_acc: 0.7146\n",
      "Epoch 18/32\n",
      "4040/4040 [==============================] - 1323s 327ms/step - loss: 1.2681 - acc: 0.6905 - val_loss: 1.1961 - val_acc: 0.7147\n",
      "Epoch 19/32\n",
      "4040/4040 [==============================] - 1336s 331ms/step - loss: 1.2565 - acc: 0.6919 - val_loss: 1.1777 - val_acc: 0.7180\n",
      "Epoch 20/32\n",
      "4040/4040 [==============================] - 1311s 325ms/step - loss: 1.2357 - acc: 0.7002 - val_loss: 1.1818 - val_acc: 0.7195\n",
      "Epoch 21/32\n",
      "4040/4040 [==============================] - 1308s 324ms/step - loss: 1.2208 - acc: 0.7032 - val_loss: 1.1728 - val_acc: 0.7200\n",
      "Epoch 22/32\n",
      "4040/4040 [==============================] - 1311s 325ms/step - loss: 1.2203 - acc: 0.7020 - val_loss: 1.1715 - val_acc: 0.7204\n",
      "Epoch 23/32\n",
      "4040/4040 [==============================] - 1311s 324ms/step - loss: 1.2154 - acc: 0.7023 - val_loss: 1.1743 - val_acc: 0.7207\n",
      "Epoch 24/32\n",
      "4040/4040 [==============================] - 1310s 324ms/step - loss: 1.2137 - acc: 0.7040 - val_loss: 1.1712 - val_acc: 0.7205\n",
      "Epoch 25/32\n",
      "4040/4040 [==============================] - 1311s 324ms/step - loss: 1.2075 - acc: 0.7039 - val_loss: 1.1673 - val_acc: 0.7220\n",
      "Epoch 26/32\n",
      "4040/4040 [==============================] - 1310s 324ms/step - loss: 1.2035 - acc: 0.7059 - val_loss: 1.1637 - val_acc: 0.7221\n",
      "Epoch 27/32\n",
      "4040/4040 [==============================] - 1312s 325ms/step - loss: 1.1997 - acc: 0.7054 - val_loss: 1.1669 - val_acc: 0.7215\n",
      "Epoch 28/32\n",
      "4040/4040 [==============================] - 1313s 325ms/step - loss: 1.2004 - acc: 0.7060 - val_loss: 1.1671 - val_acc: 0.7209\n",
      "Epoch 29/32\n",
      "4040/4040 [==============================] - 1312s 325ms/step - loss: 1.1989 - acc: 0.7059 - val_loss: 1.1643 - val_acc: 0.7211\n",
      "Epoch 30/32\n",
      "4040/4040 [==============================] - 1311s 324ms/step - loss: 1.1904 - acc: 0.7088 - val_loss: 1.1646 - val_acc: 0.7236\n",
      "Epoch 31/32\n",
      "4040/4040 [==============================] - 1311s 325ms/step - loss: 1.1962 - acc: 0.7067 - val_loss: 1.1672 - val_acc: 0.7228\n",
      "Epoch 32/32\n",
      "4040/4040 [==============================] - 1309s 324ms/step - loss: 1.1878 - acc: 0.7097 - val_loss: 1.1634 - val_acc: 0.7223\n"
     ]
    }
   ],
   "source": [
    "history = model.fit_generator(\n",
    "        train_generator,\n",
    "        steps_per_epoch=total_train//batch_size,\n",
    "        epochs=32,\n",
    "        validation_data = validation_generator,\n",
    "        validation_steps=total_validate//batch_size,\n",
    "        callbacks= [lr_scheduler]\n",
    "        )"
   ]
  },
  {
   "cell_type": "code",
   "execution_count": 66,
   "metadata": {},
   "outputs": [],
   "source": [
    "model.save(\"Food-101_ResNet_CV.h5\")"
   ]
  },
  {
   "cell_type": "code",
   "execution_count": 71,
   "metadata": {},
   "outputs": [
    {
     "data": {
      "image/png": "[encoded data removed]",
      "text/plain": [
       "<Figure size 864x864 with 2 Axes>"
      ]
     },
     "metadata": {
      "needs_background": "light"
     },
     "output_type": "display_data"
    }
   ],
   "source": [
    "fig, (ax1, ax2) = plt.subplots(2, 1, figsize=(12, 12))\n",
    "ax1.plot(history.history['loss'], color='b', label=\"Training loss\")\n",
    "ax1.plot(history.history['val_loss'], color='r', label=\"validation loss\")\n",
    "ax1.set_xticks(np.arange(1, 10, 1))\n",
    "ax1.set_yticks(np.arange(0, 1, 0.1))\n",
    "legend = ax1.legend(loc='best', shadow=True)\n",
    "\n",
    "ax2.plot(history.history['acc'], color='b', label=\"Training accuracy\")\n",
    "ax2.plot(history.history['val_acc'], color='r',label=\"Validation accuracy\")\n",
    "ax2.set_xticks(np.arange(1, 10, 1))\n",
    "\n",
    "legend = plt.legend(loc='best', shadow=True)\n",
    "plt.tight_layout()\n",
    "plt.show()"
   ]
  },
  {
   "cell_type": "code",
   "execution_count": 21,
   "metadata": {},
   "outputs": [
    {
     "name": "stdout",
     "output_type": "stream",
     "text": [
      "WARNING:tensorflow:From /home/sarvagya/anaconda3/envs/tf_2/lib/python3.6/site-packages/keras/backend/tensorflow_backend.py:3445: calling dropout (from tensorflow.python.ops.nn_ops) with keep_prob is deprecated and will be removed in a future version.\n",
      "Instructions for updating:\n",
      "Please use `rate` instead of `keep_prob`. Rate should be set to `rate = 1 - keep_prob`.\n",
      "WARNING:tensorflow:From /home/sarvagya/anaconda3/envs/tf_2/lib/python3.6/site-packages/tensorflow/python/ops/math_ops.py:3066: to_int32 (from tensorflow.python.ops.math_ops) is deprecated and will be removed in a future version.\n",
      "Instructions for updating:\n",
      "Use tf.cast instead.\n"
     ]
    }
   ],
   "source": [
    "model = load_model('Food-101_ResNet_CV.h5')"
   ]
  },
  {
   "cell_type": "markdown",
   "metadata": {},
   "source": [
    "## TESTING"
   ]
  },
  {
   "cell_type": "code",
   "execution_count": 22,
   "metadata": {},
   "outputs": [],
   "source": [
    "# def center_crop(x, center_crop_size, **kwargs):\n",
    "#     centerw, centerh = x.shape[0]//2, x.shape[1]//2\n",
    "#     halfw, halfh = center_crop_size[0]//2, center_crop_size[1]//2\n",
    "#     return x[centerw-halfw:centerw+halfw,centerh-halfh:centerh+halfh, :]"
   ]
  },
  {
   "cell_type": "code",
   "execution_count": 26,
   "metadata": {},
   "outputs": [],
   "source": [
    "# def predict_10_crop(file, ix, top_n=5, plot=False, preprocess=True, debug=False):\n",
    "#     y_pred = []\n",
    "#     result = []\n",
    "#     img = plt.imread(root_test+file)\n",
    "#     flipped_X = np.fliplr(img)\n",
    "#     crops = [\n",
    "#         img[:300,:300, :], # Upper Left\n",
    "#         img[:300, img.shape[1]-300:, :], # Upper Right\n",
    "#         img[img.shape[0]-300:, :300, :], # Lower Left\n",
    "#         img[img.shape[0]-300:, img.shape[1]-300:, :], # Lower Right\n",
    "#         center_crop(img, (300, 300)),\n",
    "        \n",
    "#         flipped_X[:300,:300, :],\n",
    "#         flipped_X[:300, flipped_X.shape[1]-300:, :],\n",
    "#         flipped_X[flipped_X.shape[0]-300:, :300, :],\n",
    "#         flipped_X[flipped_X.shape[0]-300:, flipped_X.shape[1]-300:, :],\n",
    "#         center_crop(flipped_X, (300, 300))\n",
    "#     ]\n",
    "#     if preprocess:\n",
    "#         crops = [preprocess_input(x.astype('float32')) for x in crops]\n",
    "\n",
    "#     if plot:\n",
    "#         fig, ax = plt.subplots(2, 5, figsize=(10, 4))\n",
    "#         ax[0][0].imshow(crops[0])\n",
    "#         ax[0][1].imshow(crops[1])\n",
    "#         ax[0][2].imshow(crops[2])\n",
    "#         ax[0][3].imshow(crops[3])\n",
    "#         ax[0][4].imshow(crops[4])\n",
    "#         ax[1][0].imshow(crops[5])\n",
    "#         ax[1][1].imshow(crops[6])\n",
    "#         ax[1][2].imshow(crops[7])\n",
    "#         ax[1][3].imshow(crops[8])\n",
    "#         ax[1][4].imshow(crops[9])\n",
    "        \n",
    "#     y_pred = (model.predict(np.array(crops)))\n",
    "#     preds = np.argmax(y_pred, axis=1)\n",
    "#     top_n_preds= np.argpartition(y_pred, -top_n)[:,-top_n:]\n",
    "#     if debug:\n",
    "#         print('Top-1 Predicted:', preds)\n",
    "#         print('Top-5 Predicted:', top_n_preds)\n",
    "#         print('True Label:', df_test['category'][ix])\n",
    "#     return preds, top_n_preds"
   ]
  },
  {
   "cell_type": "code",
   "execution_count": 27,
   "metadata": {},
   "outputs": [],
   "source": [
    "# ix = 8000\n",
    "# predict_10_crop(df_test.loc[ix][0], ix, top_n=5, plot=True, preprocess=False, debug=True)"
   ]
  },
  {
   "cell_type": "code",
   "execution_count": 164,
   "metadata": {},
   "outputs": [
    {
     "data": {
      "text/plain": [
       "'52'"
      ]
     },
     "execution_count": 164,
     "metadata": {},
     "output_type": "execute_result"
    }
   ],
   "source": [
    "df_test['category'][ix]"
   ]
  },
  {
   "cell_type": "code",
   "execution_count": 28,
   "metadata": {},
   "outputs": [],
   "source": [
    "test = df_test.sample(50)"
   ]
  },
  {
   "cell_type": "code",
   "execution_count": 29,
   "metadata": {},
   "outputs": [],
   "source": [
    "test = test.reset_index(drop=True)"
   ]
  },
  {
   "cell_type": "markdown",
   "metadata": {},
   "source": [
    "Testing requires a little bit of rescaling and making sure the size of the image is according to CNN's requirements"
   ]
  },
  {
   "cell_type": "code",
   "execution_count": 30,
   "metadata": {},
   "outputs": [
    {
     "name": "stdout",
     "output_type": "stream",
     "text": [
      "Found 50 images.\n"
     ]
    }
   ],
   "source": [
    "test_gen = ImageDataGenerator(rescale=1./255)\n",
    "test_generator = test_gen.flow_from_dataframe(\n",
    "    test, \n",
    "    \"/media/sarvagya/Datasets/food-101/food-101/test/\", \n",
    "    x_col='filename',\n",
    "    y_col=None,\n",
    "    class_mode=None,\n",
    "    target_size=(300,300),\n",
    "    batch_size=batch_size,\n",
    "    shuffle=False\n",
    ")"
   ]
  },
  {
   "cell_type": "code",
   "execution_count": 31,
   "metadata": {},
   "outputs": [],
   "source": [
    "nb_samples = 50\n",
    "result = []"
   ]
  },
  {
   "cell_type": "code",
   "execution_count": 32,
   "metadata": {},
   "outputs": [
    {
     "name": "stdout",
     "output_type": "stream",
     "text": [
      "4/4 [==============================] - 2s 377ms/step\n"
     ]
    }
   ],
   "source": [
    "predict = model.predict_generator(test_generator, steps=np.ceil(nb_samples/batch_size), verbose=1)"
   ]
  },
  {
   "cell_type": "code",
   "execution_count": 33,
   "metadata": {},
   "outputs": [],
   "source": [
    "for i in range(len(predict)):\n",
    "    result.append(np.argpartition(predict[i], -5)[-5:])"
   ]
  },
  {
   "cell_type": "code",
   "execution_count": 34,
   "metadata": {},
   "outputs": [
    {
     "data": {
      "text/plain": [
       "[array([97, 46, 44,  2,  6]),\n",
       " array([43, 46, 30, 70, 63]),\n",
       " array([100,   2,   6,  86,  24]),\n",
       " array([70, 96, 46,  6, 44]),\n",
       " array([80, 52,  6, 19, 50]),\n",
       " array([ 97,  72,  25, 100,   8]),\n",
       " array([ 47, 100,  46,  24,  88]),\n",
       " array([67, 43, 98, 30, 27]),\n",
       " array([11, 32, 81, 94, 76]),\n",
       " array([67, 45, 49, 27, 85]),\n",
       " array([50, 10, 23, 61, 26]),\n",
       " array([ 46,  84,  35,   8, 100]),\n",
       " array([31, 14, 66, 39, 20]),\n",
       " array([87, 94, 47, 20, 32]),\n",
       " array([97, 39, 66, 69, 80]),\n",
       " array([79, 10, 72, 99, 16]),\n",
       " array([52, 77, 28, 33, 36]),\n",
       " array([32, 63, 77, 28, 60]),\n",
       " array([42, 50, 26, 61, 23]),\n",
       " array([  7, 100,  66,  40,  84]),\n",
       " array([81, 69, 88, 68, 91]),\n",
       " array([ 97, 100,  98,   2,  96]),\n",
       " array([76, 34, 89, 20, 87]),\n",
       " array([77, 59, 42, 33, 36]),\n",
       " array([30, 63, 67, 49, 27]),\n",
       " array([ 3, 31,  5, 26, 57]),\n",
       " array([43, 84, 53, 82, 89]),\n",
       " array([70, 11, 40, 84, 69]),\n",
       " array([27, 70, 63, 67, 30]),\n",
       " array([10,  2, 24, 95,  3]),\n",
       " array([81, 91, 69, 68, 92]),\n",
       " array([65, 87, 18, 48, 30]),\n",
       " array([95,  7, 41, 72, 23]),\n",
       " array([99, 10, 13, 16, 34]),\n",
       " array([38, 86,  1, 34, 73]),\n",
       " array([54, 90,  2, 65, 12]),\n",
       " array([32,  7, 42, 79,  0]),\n",
       " array([79, 65, 29, 22, 50]),\n",
       " array([62, 86, 27, 55, 41]),\n",
       " array([ 7, 95, 99, 10, 83]),\n",
       " array([11, 97, 51, 69, 40]),\n",
       " array([81, 89, 11, 58, 82]),\n",
       " array([84, 85, 90, 79,  0]),\n",
       " array([98,  5, 30, 26, 13]),\n",
       " array([38, 34, 95,  0, 79]),\n",
       " array([ 4, 97, 45, 50, 19]),\n",
       " array([ 5, 26, 67, 57, 54]),\n",
       " array([73, 16, 57, 34,  9]),\n",
       " array([76, 78, 34, 94, 32]),\n",
       " array([49, 30, 63, 27, 67])]"
      ]
     },
     "execution_count": 34,
     "metadata": {},
     "output_type": "execute_result"
    }
   ],
   "source": [
    "result"
   ]
  },
  {
   "cell_type": "code",
   "execution_count": 35,
   "metadata": {},
   "outputs": [],
   "source": [
    "count_top_1 = 0\n",
    "count_top_5 = 0"
   ]
  },
  {
   "cell_type": "code",
   "execution_count": 36,
   "metadata": {},
   "outputs": [
    {
     "name": "stderr",
     "output_type": "stream",
     "text": [
      "/home/sarvagya/.local/lib/python3.6/site-packages/ipykernel_launcher.py:4: FutureWarning: elementwise comparison failed; returning scalar instead, but in the future will perform elementwise comparison\n",
      "  after removing the cwd from sys.path.\n"
     ]
    }
   ],
   "source": [
    "for i in range(len(result)):\n",
    "    if (test['category'][i]==result[i][0]):\n",
    "        count_top_1+=1\n",
    "    elif(test['category'][i] in result[i]):\n",
    "        count_top_5+=1"
   ]
  },
  {
   "cell_type": "code",
   "execution_count": 37,
   "metadata": {},
   "outputs": [
    {
     "data": {
      "text/plain": [
       "0"
      ]
     },
     "execution_count": 37,
     "metadata": {},
     "output_type": "execute_result"
    }
   ],
   "source": [
    "count_top_1"
   ]
  },
  {
   "cell_type": "code",
   "execution_count": 38,
   "metadata": {},
   "outputs": [
    {
     "data": {
      "text/plain": [
       "0"
      ]
     },
     "execution_count": 38,
     "metadata": {},
     "output_type": "execute_result"
    }
   ],
   "source": [
    "count_top_5"
   ]
  },
  {
   "cell_type": "code",
   "execution_count": null,
   "metadata": {},
   "outputs": [],
   "source": []
  }
 ],
 "metadata": {
  "kernelspec": {
   "display_name": "Python 3",
   "language": "python",
   "name": "python3"
  },
  "language_info": {
   "codemirror_mode": {
    "name": "ipython",
    "version": 3
   },
   "file_extension": ".py",
   "mimetype": "text/x-python",
   "name": "python",
   "nbconvert_exporter": "python",
   "pygments_lexer": "ipython3",
   "version": "3.6.8"
  }
 },
 "nbformat": 4,
 "nbformat_minor": 2
}
